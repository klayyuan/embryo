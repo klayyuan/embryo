{
 "cells": [
  {
   "cell_type": "code",
   "execution_count": 1,
   "id": "77fce259-79b2-4434-9acc-9741acf5d74e",
   "metadata": {},
   "outputs": [],
   "source": [
    "import pandas as pd\n",
    "import numpy as np\n",
    "import matplotlib.pyplot as plt\n",
    "%matplotlib inline\n",
    "import warnings\n",
    "warnings.filterwarnings(\"ignore\")"
   ]
  },
  {
   "cell_type": "code",
   "execution_count": 3,
   "id": "3c7b756a-343d-42e7-94cd-c327950d1da3",
   "metadata": {},
   "outputs": [],
   "source": [
    "from numpy import mean,median,std\n",
    "from math import log"
   ]
  },
  {
   "cell_type": "code",
   "execution_count": null,
   "id": "6749fb60-0d8a-4823-abac-176d20573a42",
   "metadata": {},
   "outputs": [],
   "source": []
  },
  {
   "cell_type": "code",
   "execution_count": 5,
   "id": "bfb38048-89b5-419b-abd9-9c51fe27aade",
   "metadata": {},
   "outputs": [],
   "source": [
    "#Set protein copy numbers\n",
    "pro_copynumber=[]\n",
    "for i in range(901):\n",
    "    pro_copynumber.append(10000+i*100)\n",
    "for i in range(1,901):\n",
    "    pro_copynumber.append(100000+i*1000)\n",
    "for i in range(1,901):\n",
    "    pro_copynumber.append(1000000+i*10000)\n",
    "for i in range(1,901):\n",
    "    pro_copynumber.append(10000000+i*100000)\n",
    "for i in range(1,901):\n",
    "    pro_copynumber.append(100000000+i*1000000)"
   ]
  },
  {
   "cell_type": "code",
   "execution_count": 7,
   "id": "1808b3d3-c6a1-4332-963b-8945d82785b8",
   "metadata": {},
   "outputs": [
    {
     "data": {
      "text/plain": [
       "4501"
      ]
     },
     "execution_count": 7,
     "metadata": {},
     "output_type": "execute_result"
    }
   ],
   "source": [
    "len(pro_copynumber)"
   ]
  },
  {
   "cell_type": "code",
   "execution_count": 9,
   "id": "cf604f56-0b4b-46df-a678-a45cc86bf8de",
   "metadata": {},
   "outputs": [],
   "source": [
    "#Simulation\n",
    "pro_cv=[]\n",
    "for m in range(len(pro_copynumber)):\n",
    "#Repeat 10,000 times for each copy number\n",
    "    embryo_number=10000\n",
    "    x_list=[]\n",
    "    y_list=[]\n",
    "    x1_list=[]\n",
    "    y1_list=[]\n",
    "#Probability of being partitioned to one side    \n",
    "    p=0.5\n",
    "#Detectability    \n",
    "    detect=0.001\n",
    "#Binomial distribution    \n",
    "    x_list=np.random.binomial(n=pro_copynumber[m], p=p, size=embryo_number)\n",
    "    for i in range(len(x_list)):\n",
    "        y_list.append(pro_copynumber[m]-x_list[i])\n",
    "#Poisson distribution        \n",
    "    for i in range(len(x_list)):\n",
    "        x1_list.append(np.random.poisson(lam=x_list[i]*detect, size=1))\n",
    "        y1_list.append(np.random.poisson(lam=y_list[i]*detect, size=1))\n",
    "    cv_list=[]\n",
    "    for i in range(len(x1_list)):\n",
    "        count=[x1_list[i],y1_list[i]]\n",
    "        if mean(count)==0:\n",
    "            continue\n",
    "        cv_list.append(std(count,ddof=0)/mean(count))\n",
    "    pro_cv.append(mean(cv_list))"
   ]
  },
  {
   "cell_type": "code",
   "execution_count": 11,
   "id": "849364dc-8ed8-4b7b-a031-837ed5235099",
   "metadata": {},
   "outputs": [],
   "source": [
    "log_pro_copynumber=[]\n",
    "for i in range(len(pro_copynumber)):\n",
    "    log_pro_copynumber.append(log(pro_copynumber[i],10))"
   ]
  },
  {
   "cell_type": "code",
   "execution_count": null,
   "id": "d2556003-fb6a-4894-8e30-d9a0ec4a38fe",
   "metadata": {},
   "outputs": [],
   "source": []
  },
  {
   "cell_type": "code",
   "execution_count": 21,
   "id": "d7323bc5-69de-4999-83a2-b5badb4baa6e",
   "metadata": {},
   "outputs": [],
   "source": [
    "columns = ['copy number', 'log copy number', 'cv']\n",
    "df_pro_simulation = pd.DataFrame(columns=columns)"
   ]
  },
  {
   "cell_type": "code",
   "execution_count": 23,
   "id": "00c91c07-c495-4492-9a81-068a9e7f3bd6",
   "metadata": {},
   "outputs": [],
   "source": [
    "for i in range(len(pro_copynumber)):\n",
    "    df_pro_simulation.loc[str(i),'copy number']=pro_copynumber[i]\n",
    "    df_pro_simulation.loc[str(i),'log copy number']=log_pro_copynumber[i]\n",
    "    df_pro_simulation.loc[str(i),'cv']=pro_cv[i]"
   ]
  },
  {
   "cell_type": "code",
   "execution_count": null,
   "id": "573a5a2b-3f5f-49c9-9ac5-0402e6ea910d",
   "metadata": {},
   "outputs": [],
   "source": []
  }
 ],
 "metadata": {
  "kernelspec": {
   "display_name": "Python 3 (ipykernel)",
   "language": "python",
   "name": "python3"
  },
  "language_info": {
   "codemirror_mode": {
    "name": "ipython",
    "version": 3
   },
   "file_extension": ".py",
   "mimetype": "text/x-python",
   "name": "python",
   "nbconvert_exporter": "python",
   "pygments_lexer": "ipython3",
   "version": "3.12.4"
  }
 },
 "nbformat": 4,
 "nbformat_minor": 5
}
