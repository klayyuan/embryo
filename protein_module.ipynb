{
 "cells": [
  {
   "cell_type": "code",
   "execution_count": 1,
   "id": "5aac0435-4a97-4378-a79e-aff769c508c2",
   "metadata": {},
   "outputs": [],
   "source": [
    "import pandas as pd\n",
    "import numpy as np\n",
    "import matplotlib.pyplot as plt\n",
    "%matplotlib inline\n",
    "import warnings\n",
    "warnings.filterwarnings(\"ignore\")"
   ]
  },
  {
   "cell_type": "code",
   "execution_count": 3,
   "id": "684733f1-442d-45f4-bc86-9595dd170274",
   "metadata": {},
   "outputs": [],
   "source": [
    "sc_pro_2E=pd.read_csv('20241104-2cell-early-all-preprocessed.csv',index_col='Protein.Group')"
   ]
  },
  {
   "cell_type": "code",
   "execution_count": 5,
   "id": "99551c32-e333-4a00-accd-f1c3500ef2ae",
   "metadata": {},
   "outputs": [],
   "source": [
    "pro_embryo_2E={}\n",
    "for col in sc_pro_2E.columns:\n",
    "    label=col.split('_')[1]\n",
    "    if label in pro_embryo_2E:\n",
    "        pro_embryo_2E[label].append(col)\n",
    "    else:\n",
    "        pro_embryo_2E[label]=[col]"
   ]
  },
  {
   "cell_type": "code",
   "execution_count": 7,
   "id": "47debffd-edd0-41e2-87fb-8f33b8ff3286",
   "metadata": {},
   "outputs": [],
   "source": [
    "from numpy import mean,median,std"
   ]
  },
  {
   "cell_type": "code",
   "execution_count": 9,
   "id": "905d1391-1966-44b0-aef1-ab2876242cb5",
   "metadata": {},
   "outputs": [],
   "source": [
    "sc_pro_2E_meaneach=sc_pro_2E.copy()\n",
    "sc_pro_2E_meaneach=sc_pro_2E_meaneach.drop(sc_pro_2E.columns,axis=1)\n",
    "for embryo in pro_embryo_2E:\n",
    "    sc_pro_2E_meaneach['mean_2E_'+embryo] =mean(sc_pro_2E[pro_embryo_2E[embryo]],axis=1)"
   ]
  },
  {
   "cell_type": "code",
   "execution_count": 11,
   "id": "8b21b091-8e77-4a3d-8f84-d0fd76f33234",
   "metadata": {},
   "outputs": [],
   "source": [
    "sc_pro_2E_nobev=sc_pro_2E.copy()"
   ]
  },
  {
   "cell_type": "code",
   "execution_count": 13,
   "id": "8944ff66-9f44-476b-a965-0cd0ebea78eb",
   "metadata": {},
   "outputs": [],
   "source": [
    "sc_pro_2E_nobev=sc_pro_2E.copy()\n",
    "for i in range(sc_pro_2E_nobev.shape[0]):\n",
    "    for j in range(sc_pro_2E_nobev.shape[1]):\n",
    "        sc_pro_2E_nobev.iloc[i,j]=sc_pro_2E.iloc[i,j]-sc_pro_2E_meaneach.loc[sc_pro_2E_nobev.index[i],'mean_2E_'+sc_pro_2E_nobev.columns[j].split('_')[1]]"
   ]
  },
  {
   "cell_type": "code",
   "execution_count": 14,
   "id": "2752691d-06ff-44e7-9932-9be7ed4d6cc3",
   "metadata": {},
   "outputs": [],
   "source": [
    "DAP_2E=pd.read_csv('DAP_2E.txt',index_col='gene')\n",
    "pro_2E_cvtop500=[]\n",
    "for i in range(DAP_2E.shape[0]):\n",
    "    pro_2E_cvtop500.append(DAP_2E.index[i])"
   ]
  },
  {
   "cell_type": "code",
   "execution_count": 17,
   "id": "04dab96f-efa6-4d2e-87b8-df302fde4af3",
   "metadata": {},
   "outputs": [],
   "source": [
    "sc_pro_2E_nobev_cvtop500=sc_pro_2E_nobev.loc[pro_2E_cvtop500]\n",
    "matrix_2E_nobev_cvtop500=sc_pro_2E_nobev_cvtop500.transpose().corr()"
   ]
  },
  {
   "cell_type": "code",
   "execution_count": null,
   "id": "ac0d06d8-e84a-4a62-909c-2771ec5efa5c",
   "metadata": {},
   "outputs": [],
   "source": []
  },
  {
   "cell_type": "code",
   "execution_count": 19,
   "id": "1adc6d58-5929-4eb1-ae7e-cc1abe76d5a7",
   "metadata": {},
   "outputs": [],
   "source": [
    "def correlation_cluster(corr, abs_corr=False):\n",
    "    corr_dist = scidist.squareform(corr.values, checks=False)\n",
    "    corr_dist = 1 - np.abs(corr_dist) if abs_corr else 1 - corr_dist\n",
    "    gene_clusters = hcluster.linkage(corr_dist, method=\"average\")\n",
    "    gene_leaves = hcluster.leaves_list(gene_clusters)\n",
    "\n",
    "    clustered_corr = corr.values[gene_leaves, :][:, gene_leaves]\n",
    "    clustered_genes = [corr.columns[i] for i in gene_leaves]\n",
    "    rv = pd.DataFrame(clustered_corr, \n",
    "                      columns=clustered_genes, index=clustered_genes)\n",
    "\n",
    "    # transform the linkage matrix for the reordered columns\n",
    "    new_indices = np.argsort(gene_leaves).astype(int)\n",
    "    new_linkage = gene_clusters.copy()\n",
    "    old0 = np.nonzero(new_linkage[:, 0] < len(gene_leaves))[0]\n",
    "    old1 = np.nonzero(new_linkage[:, 1] < len(gene_leaves))[0]\n",
    "    new_linkage[old0, 0] = new_indices[new_linkage[old0, 0].astype(int)]\n",
    "    new_linkage[old1, 1] = new_indices[new_linkage[old1, 1].astype(int)]\n",
    "    rv.linkage = new_linkage\n",
    "\n",
    "    return rv"
   ]
  },
  {
   "cell_type": "code",
   "execution_count": 21,
   "id": "fc3defcf-10df-49c7-aee6-06f287613d25",
   "metadata": {},
   "outputs": [],
   "source": [
    "import scipy.cluster.hierarchy as hcluster\n",
    "import scipy.spatial.distance as scidist"
   ]
  },
  {
   "cell_type": "code",
   "execution_count": 23,
   "id": "976ac3df-da9a-4895-acb2-1fe6d61f5136",
   "metadata": {},
   "outputs": [],
   "source": [
    "reshaped_matrix_2E_nobev_cvtop500=correlation_cluster(matrix_2E_nobev_cvtop500, abs_corr=False)"
   ]
  },
  {
   "cell_type": "code",
   "execution_count": 25,
   "id": "c3c162b1-971e-4f6f-9904-e819b6a3bf37",
   "metadata": {},
   "outputs": [],
   "source": [
    "def boundaries2(cor, percentile, threshold, frozen=None):\n",
    "    if frozen == None:\n",
    "        frozen = [False for i in range(cor.shape[1])]\n",
    "    def find_clusters(tree):\n",
    "        if tree.is_leaf():\n",
    "            if frozen[tree.id]:\n",
    "                return ([tree.id, tree.id + 1], True)\n",
    "            else:\n",
    "                return ([tree.id, tree.id + 1], False)\n",
    "\n",
    "        (left_clusters, left_frozen) = find_clusters(tree.left)\n",
    "        (right_clusters, right_frozen) = find_clusters(tree.right)\n",
    "\n",
    "        if left_frozen or right_frozen:\n",
    "            return (left_clusters[:-1] + right_clusters, True)\n",
    "        else:\n",
    "            joint_values = cor.values[left_clusters[0]:left_clusters[-1], \n",
    "                                       right_clusters[0]:right_clusters[-1]].flatten()\n",
    "            if np.sum(np.abs(joint_values) >= threshold) >= percentile*int(len(joint_values)) :\n",
    "                return ([left_clusters[0], right_clusters[-1]], False)\n",
    "            else:\n",
    "                return (left_clusters[:-1] + right_clusters, False)\n",
    "\n",
    "    tree = hcluster.to_tree(cor.linkage)\n",
    "    (clusters, is_frozen) = find_clusters(tree)\n",
    "\n",
    "    return clusters"
   ]
  },
  {
   "cell_type": "code",
   "execution_count": 27,
   "id": "64a1a683-017b-461c-a285-0ca140cc4063",
   "metadata": {},
   "outputs": [
    {
     "data": {
      "text/plain": [
       "(57, 228)"
      ]
     },
     "execution_count": 27,
     "metadata": {},
     "output_type": "execute_result"
    }
   ],
   "source": [
    "Uclusters_2E_cvtop500_05 = boundaries2(reshaped_matrix_2E_nobev_cvtop500, 0.8, 0.5)\n",
    "Lbdry_2E_cvtop500_05 = zip(Uclusters_2E_cvtop500_05[:-1], Uclusters_2E_cvtop500_05[1:])\n",
    "Lbdry_large_2E_cvtop500_05 = [(a, b) for (a, b) in Lbdry_2E_cvtop500_05 if b - a >= 3]\n",
    "sum_2E_cvtop500_05=0\n",
    "for i in range(len(Lbdry_large_2E_cvtop500_05)):\n",
    "    sum_2E_cvtop500_05+=(Lbdry_large_2E_cvtop500_05[i][1]-Lbdry_large_2E_cvtop500_05[i][0])\n",
    "len(Lbdry_large_2E_cvtop500_05),sum_2E_cvtop500_05"
   ]
  },
  {
   "cell_type": "code",
   "execution_count": 29,
   "id": "8c1c93c8-59cd-4da1-9aac-2530c2fd8e0b",
   "metadata": {},
   "outputs": [],
   "source": [
    "CPM_2E_cvtop500_05={}\n",
    "for i in range(len(Lbdry_large_2E_cvtop500_05)):\n",
    "    for j in range(Lbdry_large_2E_cvtop500_05[i][0],Lbdry_large_2E_cvtop500_05[i][1]):\n",
    "        if i in CPM_2E_cvtop500_05:\n",
    "            if ';' not in reshaped_matrix_2E_nobev_cvtop500.index[j]:\n",
    "                CPM_2E_cvtop500_05[i].append(reshaped_matrix_2E_nobev_cvtop500.index[j])\n",
    "            else:\n",
    "                CPM_2E_cvtop500_05[i].append(reshaped_matrix_2E_nobev_cvtop500.index[j].split(';')[0])\n",
    "        else:\n",
    "            if ';' not in reshaped_matrix_2E_nobev_cvtop500.index[j]:\n",
    "                CPM_2E_cvtop500_05[i]=[reshaped_matrix_2E_nobev_cvtop500.index[j]]\n",
    "            else:\n",
    "                CPM_2E_cvtop500_05[i]=[reshaped_matrix_2E_nobev_cvtop500.index[j].split(';')[0]]"
   ]
  },
  {
   "cell_type": "code",
   "execution_count": 31,
   "id": "0a534a6a-205f-4e80-a296-b0d73298fe8e",
   "metadata": {},
   "outputs": [],
   "source": [
    "CPM_dataframe_2E_cvtop500_05=pd.DataFrame(dict([(k,pd.Series(v)) for k, v in CPM_2E_cvtop500_05.items()]))\n",
    "CPM_dataframe_2E_cvtop500_05.to_csv('CPM_2E_cvtop500_05.txt',sep='\\t',index=False)"
   ]
  },
  {
   "cell_type": "code",
   "execution_count": null,
   "id": "4b13c491-142f-415e-8e0e-f1ab9010671b",
   "metadata": {},
   "outputs": [],
   "source": []
  }
 ],
 "metadata": {
  "kernelspec": {
   "display_name": "Python 3 (ipykernel)",
   "language": "python",
   "name": "python3"
  },
  "language_info": {
   "codemirror_mode": {
    "name": "ipython",
    "version": 3
   },
   "file_extension": ".py",
   "mimetype": "text/x-python",
   "name": "python",
   "nbconvert_exporter": "python",
   "pygments_lexer": "ipython3",
   "version": "3.12.4"
  }
 },
 "nbformat": 4,
 "nbformat_minor": 5
}
