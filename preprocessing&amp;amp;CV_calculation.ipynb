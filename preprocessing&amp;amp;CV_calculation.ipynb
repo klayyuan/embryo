{
 "cells": [
  {
   "cell_type": "code",
   "execution_count": 1,
   "id": "55e04a0b-dfdb-421b-8227-e1965182c928",
   "metadata": {},
   "outputs": [],
   "source": [
    "import pandas as pd\n",
    "import numpy as np\n",
    "import matplotlib.pyplot as plt\n",
    "%matplotlib inline\n",
    "import warnings\n",
    "warnings.filterwarnings(\"ignore\")"
   ]
  },
  {
   "cell_type": "code",
   "execution_count": 3,
   "id": "f5fe9895-50cf-4bd6-93b6-0740901da223",
   "metadata": {},
   "outputs": [],
   "source": [
    "description=pd.read_csv('report-2L-QC-1103.pg_matrix.tsv',sep='\\t',index_col='Protein.Group')"
   ]
  },
  {
   "cell_type": "code",
   "execution_count": 5,
   "id": "0996822c-be58-4b33-945d-b0e7e72444e9",
   "metadata": {},
   "outputs": [],
   "source": [
    "drop_info=['Protein.Ids','Protein.Names','Genes','First.Protein.Description']\n",
    "df=description.drop(drop_info,axis=1)"
   ]
  },
  {
   "cell_type": "code",
   "execution_count": 7,
   "id": "5a5b66ea-8740-4e9f-a28d-51682007c09a",
   "metadata": {},
   "outputs": [],
   "source": [
    "df=df.fillna(0)"
   ]
  },
  {
   "cell_type": "code",
   "execution_count": null,
   "id": "06892a86-1297-4189-850c-dd2888721e06",
   "metadata": {},
   "outputs": [],
   "source": []
  },
  {
   "cell_type": "code",
   "execution_count": 9,
   "id": "f9239c83-8375-489c-b992-5d627eeacee6",
   "metadata": {},
   "outputs": [],
   "source": [
    "#Adjust column names\n",
    "df_column=[]\n",
    "for i in range(df.shape[1]):\n",
    "    if 'QC' in df.columns[i].split('\\\\')[4]:\n",
    "        break\n",
    "    if i%2==0:\n",
    "        df_column.append('2L_'+str(int((i/2)+1))+'_1')\n",
    "    if i%2==1:\n",
    "        df_column.append('2L_'+str(int((i+1)/2))+'_2')\n",
    "for i in range(df.shape[1]):\n",
    "    if 'QC' in df.columns[i].split('\\\\')[4]:\n",
    "        df_column.append('QC_'+df.columns[i].split('\\\\')[4].split('_')[4].split('.')[0])"
   ]
  },
  {
   "cell_type": "code",
   "execution_count": 11,
   "id": "9ded94a0-c0cc-46a6-870a-21f339b053fc",
   "metadata": {},
   "outputs": [],
   "source": [
    "df.columns=df_column"
   ]
  },
  {
   "cell_type": "code",
   "execution_count": null,
   "id": "88d58cef-d6fa-4404-bea8-3e35d9ddbdb6",
   "metadata": {},
   "outputs": [],
   "source": []
  },
  {
   "cell_type": "code",
   "execution_count": 13,
   "id": "18664e7a-24bb-49a6-90db-3da6f333e6fb",
   "metadata": {},
   "outputs": [],
   "source": [
    "#Filter contaminates\n",
    "keratin=[]\n",
    "for i in range(description.shape[0]):\n",
    "    if 'HUMAN' in description.loc[description.index[i],'Protein.Names']:\n",
    "        keratin.append(description.index[i])"
   ]
  },
  {
   "cell_type": "code",
   "execution_count": 15,
   "id": "2842b2c0-606e-4972-8a5d-fd92b894a084",
   "metadata": {},
   "outputs": [],
   "source": [
    "trypsin_bsa=['P00761','P02769']\n",
    "con=keratin+trypsin_bsa"
   ]
  },
  {
   "cell_type": "code",
   "execution_count": 17,
   "id": "cf515b01-af78-459c-982d-d5f328cbf3e9",
   "metadata": {},
   "outputs": [],
   "source": [
    "df_filtered_con=df.drop(con,axis=0)"
   ]
  },
  {
   "cell_type": "code",
   "execution_count": null,
   "id": "3e91a213-ccf7-42db-948a-4df73dca8147",
   "metadata": {},
   "outputs": [],
   "source": []
  },
  {
   "cell_type": "code",
   "execution_count": 19,
   "id": "314cdabf-b87c-4210-882e-078f770e892e",
   "metadata": {},
   "outputs": [
    {
     "data": {
      "text/plain": [
       "25"
      ]
     },
     "execution_count": 19,
     "metadata": {},
     "output_type": "execute_result"
    }
   ],
   "source": [
    "QC_sample=[]\n",
    "for i in range(df.shape[1]):\n",
    "    if 'QC' in df.columns[i]:\n",
    "        QC_sample.append(df.columns[i])\n",
    "len(QC_sample)"
   ]
  },
  {
   "cell_type": "code",
   "execution_count": 21,
   "id": "11abde39-8f54-4845-b5f6-f4c5a1d324fc",
   "metadata": {},
   "outputs": [],
   "source": [
    "import random"
   ]
  },
  {
   "cell_type": "code",
   "execution_count": 23,
   "id": "81fd5d9e-63e6-45e6-8348-c8569f1a2cb9",
   "metadata": {},
   "outputs": [],
   "source": [
    "#Filter one QC sample to ensure the total number of QC samples is plural\n",
    "drop_QC=random.randint(0, 24)"
   ]
  },
  {
   "cell_type": "code",
   "execution_count": 25,
   "id": "1f3b7c23-1b54-49eb-9559-0c060a201419",
   "metadata": {},
   "outputs": [
    {
     "data": {
      "text/plain": [
       "'QC_2309'"
      ]
     },
     "execution_count": 25,
     "metadata": {},
     "output_type": "execute_result"
    }
   ],
   "source": [
    "QC_sample[21]"
   ]
  },
  {
   "cell_type": "code",
   "execution_count": 27,
   "id": "3963674e-e537-4cab-afa2-28332cbf6a4a",
   "metadata": {},
   "outputs": [],
   "source": [
    "QC_sample.remove('QC_2309')"
   ]
  },
  {
   "cell_type": "code",
   "execution_count": 29,
   "id": "94b5b78d-c532-440a-a4d2-29774559a37a",
   "metadata": {},
   "outputs": [],
   "source": [
    "df_filtered_1QC=df_filtered_con.drop('QC_2309',axis=1)"
   ]
  },
  {
   "cell_type": "code",
   "execution_count": 31,
   "id": "bc4ca9e3-d5e8-4f11-8786-607c49f79316",
   "metadata": {},
   "outputs": [
    {
     "data": {
      "text/plain": [
       "524"
      ]
     },
     "execution_count": 31,
     "metadata": {},
     "output_type": "execute_result"
    }
   ],
   "source": [
    "#Filter out proteins with too many NA values\n",
    "drop_na=[]\n",
    "for i in range(df_filtered_1QC.shape[0]):\n",
    "    count_sample=0\n",
    "    count_qc=0\n",
    "    for j in range(df_filtered_1QC.shape[1]):\n",
    "        if df_filtered_1QC.iloc[i,j]==0 and '2L' in df_filtered_1QC.columns[j]:\n",
    "            count_sample+=1\n",
    "        if df_filtered_1QC.iloc[i,j]==0 and 'QC' in df_filtered_1QC.columns[j]:\n",
    "            count_qc+=1\n",
    "    if count_sample>18 or count_qc>12:\n",
    "        drop_na.append(df_filtered_1QC.index[i])\n",
    "len(drop_na)"
   ]
  },
  {
   "cell_type": "code",
   "execution_count": 33,
   "id": "28874cbd-15e4-44df-9b9c-01846c50aa94",
   "metadata": {},
   "outputs": [],
   "source": [
    "df_filtered_na=df_filtered_1QC.drop(drop_na)"
   ]
  },
  {
   "cell_type": "code",
   "execution_count": 35,
   "id": "227cd9ba-46c2-4591-9ea6-2a0e64dfc91b",
   "metadata": {},
   "outputs": [],
   "source": [
    "sample_columns=[]\n",
    "qc_columns=[]\n",
    "for i in range(df_filtered_na.shape[1]):\n",
    "    if 'QC' not in df_filtered_na.columns[i]:\n",
    "        sample_columns.append(df_filtered_na.columns[i])\n",
    "    if 'QC' in df_filtered_na.columns[i]:\n",
    "        qc_columns.append(df_filtered_na.columns[i])"
   ]
  },
  {
   "cell_type": "code",
   "execution_count": 37,
   "id": "cc2d6545-6167-422a-82d9-4ab94c928b77",
   "metadata": {},
   "outputs": [],
   "source": [
    "df_sample=df_filtered_na[sample_columns]\n",
    "df_qc=df_filtered_na[qc_columns]"
   ]
  },
  {
   "cell_type": "code",
   "execution_count": null,
   "id": "7db57e45-caf6-4325-bb34-c6bfbf96440d",
   "metadata": {},
   "outputs": [],
   "source": []
  },
  {
   "cell_type": "code",
   "execution_count": 49,
   "id": "8d52af67-0ece-4781-adbe-4b3f5defe943",
   "metadata": {},
   "outputs": [],
   "source": [
    "embryo_2L={}\n",
    "for col in df_sample.columns:\n",
    "    if col.split('_')[0]=='2L':\n",
    "        label=col.split('_')[1]\n",
    "        if label in embryo_2L:\n",
    "            embryo_2L[label].append(col)\n",
    "        else:\n",
    "            embryo_2L[label]=[col]"
   ]
  },
  {
   "cell_type": "code",
   "execution_count": 51,
   "id": "026830c5-1291-4d9f-900a-475c31a97fd0",
   "metadata": {},
   "outputs": [],
   "source": [
    "from numpy import std,mean"
   ]
  },
  {
   "cell_type": "code",
   "execution_count": 53,
   "id": "4b38bcbd-9440-4d40-ae98-a87ea50ef592",
   "metadata": {},
   "outputs": [],
   "source": [
    "df_sample_cv=df_sample.copy()\n",
    "df_sample_cv=df_sample_cv.drop(df_sample.columns,axis=1)\n",
    "for embryo in embryo_2L:\n",
    "    df_sample_cv['cv_sample_'+embryo] =std(df_sample[embryo_2L[embryo]],ddof=0,axis=1)/mean(df_sample[embryo_2L[embryo]],axis=1)"
   ]
  },
  {
   "cell_type": "code",
   "execution_count": null,
   "id": "c1f153f0-57b6-495a-a745-3551c83c37ed",
   "metadata": {},
   "outputs": [],
   "source": []
  }
 ],
 "metadata": {
  "kernelspec": {
   "display_name": "Python 3 (ipykernel)",
   "language": "python",
   "name": "python3"
  },
  "language_info": {
   "codemirror_mode": {
    "name": "ipython",
    "version": 3
   },
   "file_extension": ".py",
   "mimetype": "text/x-python",
   "name": "python",
   "nbconvert_exporter": "python",
   "pygments_lexer": "ipython3",
   "version": "3.12.4"
  }
 },
 "nbformat": 4,
 "nbformat_minor": 5
}
